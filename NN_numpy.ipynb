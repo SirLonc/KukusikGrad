{
  "nbformat": 4,
  "nbformat_minor": 0,
  "metadata": {
    "colab": {
      "provenance": []
    },
    "kernelspec": {
      "name": "python3",
      "display_name": "Python 3"
    },
    "language_info": {
      "name": "python"
    }
  },
  "cells": [
    {
      "cell_type": "code",
      "source": [
        "import math\n",
        "import numpy as np\n",
        "import matplotlib.pyplot as plt\n",
        "%matplotlib inline"
      ],
      "metadata": {
        "id": "L5TB5aj6feW0"
      },
      "execution_count": null,
      "outputs": []
    },
    {
      "cell_type": "code",
      "source": [
        "class Value:\n",
        "  def __init__(self, data, children=(), op='', label = ''):\n",
        "    self.data = data\n",
        "    self.gradient = 0.0\n",
        "    self.backward = lambda: None\n",
        "    self.prev = set(children)\n",
        "    self.op = op\n",
        "    self.label = label\n",
        "\n",
        "  def __add__(self, other_val):\n",
        "    other_val = other_val if isinstance(other_val, Value) else Value(other_val)\n",
        "    out = Value (self.data + other_val.data, (self, other_val), op = '+')\n",
        "    def backward():\n",
        "      self.gradient += out.gradient\n",
        "      other_val.gradient += out.gradient\n",
        "\n",
        "    out.backward = backward\n",
        "    return out\n",
        "\n",
        "  def __radd__(self,other_val):\n",
        "    return self * other_val\n",
        "\n",
        "  def __neg__(self):\n",
        "    return self * -1\n",
        "\n",
        "  def __sub__(self, other_val):\n",
        "    other_val = other_val if isinstance(other_val, Value) else Value(other_val)\n",
        "    return self + (-other_val)\n",
        "\n",
        "\n",
        "  def __mul__(self, other_val):\n",
        "    other_val = other_val if isinstance(other_val, Value) else Value(other_val)\n",
        "    out = Value(self.data * other_val.data, (self,other_val), op = '*')\n",
        "\n",
        "    def backward():\n",
        "      self.gradient += other_val.data * out.gradient\n",
        "      other_val.gradient += self.data * out.gradient\n",
        "\n",
        "    out.backward = backward\n",
        "    return out\n",
        "\n",
        "  def __rmul__(self, other_val):\n",
        "    return self * other_val\n",
        "\n",
        "  def __truediv__(self, other_val):\n",
        "    return self * other_val ** -1\n",
        "\n",
        "\n",
        "  def tanh(self):\n",
        "    n = self.data\n",
        "    tanh = (math.exp(2*n) - 1)/(math.exp(2*n) + 1)\n",
        "    out = Value(tanh, (self,), 'tanh')\n",
        "\n",
        "    def backward():\n",
        "      self.gradient += (1 - tanh**2) *out.gradient\n",
        "\n",
        "    out.backward = backward\n",
        "    return out\n",
        "\n",
        "  def __pow__(self, other_val):\n",
        "    assert isinstance(other_val, (int, float)) # Support only int and float in pow\n",
        "    out = Value(self.data ** other_val, (self,), f\"**{other_val}\")\n",
        "\n",
        "    def backward():\n",
        "      self.gradient += other_val * self.data ** (other_val - 1) * out.gradient\n",
        "    out.backward = backward\n",
        "\n",
        "    return out\n",
        "\n",
        "  def exp(self):\n",
        "    x = self.data\n",
        "    out = Value(math.exp(x), (self,), 'exp')\n",
        "\n",
        "    def backward():\n",
        "      self.grad += out.data * out.grad\n",
        "\n",
        "    out.backward = backward\n",
        "    return out\n",
        "\n",
        "  def __repr__(self):\n",
        "    return f\"Value(data={self.data})\"\n",
        "\n",
        "  def backprop(self):\n",
        "    topologic = []\n",
        "    visited = set()\n",
        "    def build_topological(v):\n",
        "      if v not in visited:\n",
        "        visited.add(v)\n",
        "        for child in v.prev:\n",
        "          build_topological(child)\n",
        "        topologic.append(v)\n",
        "    build_topological(self)\n",
        "\n",
        "    self.gradient = 1.0\n",
        "    for node in reversed(topologic):\n",
        "      node.backward()\n",
        "\n"
      ],
      "metadata": {
        "id": "FubLLmMWfq2T"
      },
      "execution_count": null,
      "outputs": []
    },
    {
      "cell_type": "code",
      "source": [
        "from graphviz import Digraph\n",
        "\n",
        "\n",
        "def trace(root):\n",
        "  nodes, edges = set() , set()\n",
        "\n",
        "  def build(v):\n",
        "    if v not in nodes:\n",
        "      nodes.add(v)\n",
        "      for child in v.prev:\n",
        "        edges.add((child,v))\n",
        "        build(child)\n",
        "  build(root)\n",
        "  return nodes, edges\n",
        "\n",
        "def draw(root):\n",
        "  dot = Digraph(format = 'svg', graph_attr = {'rankdir':'LR'}) # LEFT -> RIGHT\n",
        "\n",
        "  nodes, edges = trace(root)\n",
        "\n",
        "  for n in nodes:\n",
        "    uid = str(id(n))\n",
        "\n",
        "    dot.node(name = uid, label = \"{%s | data %.4f | grad %.4f}\" % (n.label, n.data, n.gradient), shape = \"record\")\n",
        "\n",
        "    if n.op:\n",
        "      dot.node(uid + n.op, n.op)\n",
        "\n",
        "      dot.edge(uid + n.op, uid)\n",
        "  for n1, n2 in edges:\n",
        "    dot.edge(str(id(n1)), str(id(n2)) + n2.op)\n",
        "  return dot"
      ],
      "metadata": {
        "id": "0uaGmNVpM4fO"
      },
      "execution_count": null,
      "outputs": []
    },
    {
      "cell_type": "code",
      "source": [
        "#inputs x1, x2\n",
        "x1 = Value(2.0, label = 'x1')\n",
        "x2 = Value(0.0, label = 'x2')\n",
        "#weights w1, w2\n",
        "w1 = Value(-3.0, label = 'w1')\n",
        "w2 = Value(1.0, label = 'w2')\n",
        "#bias\n",
        "b = Value(6.88137, label = 'b1')\n",
        "\n",
        "x1w1 = x1 * w1\n",
        "x1w1.label = 'x1w1'\n",
        "\n",
        "x2w2 = x2 * w2\n",
        "x2w2.label = 'x2w2'\n",
        "\n",
        "x1w1_plus_x2w2 = x1w1 + x2w2\n",
        "x1w1_plus_x2w2.label = 'x1w1 + x2w2'\n",
        "\n",
        "n = x1w1_plus_x2w2 + b; n.label = 'n'\n",
        "o = n.tanh(); o.label = 'o'\n",
        "o.backprop()"
      ],
      "metadata": {
        "id": "R0YJBnvWXiXR"
      },
      "execution_count": null,
      "outputs": []
    },
    {
      "cell_type": "code",
      "source": [
        "draw(o)"
      ],
      "metadata": {
        "colab": {
          "base_uri": "https://localhost:8080/",
          "height": 321
        },
        "id": "r8GAQZLQZLzw",
        "outputId": "3a48f08c-e3ee-4f80-f8b8-911cd83e538f"
      },
      "execution_count": null,
      "outputs": [
        {
          "output_type": "execute_result",
          "data": {
            "image/svg+xml": "<?xml version=\"1.0\" encoding=\"UTF-8\" standalone=\"no\"?>\n<!DOCTYPE svg PUBLIC \"-//W3C//DTD SVG 1.1//EN\"\n \"http://www.w3.org/Graphics/SVG/1.1/DTD/svg11.dtd\">\n<!-- Generated by graphviz version 2.43.0 (0)\n -->\n<!-- Title: %3 Pages: 1 -->\n<svg width=\"1555pt\" height=\"210pt\"\n viewBox=\"0.00 0.00 1555.00 210.00\" xmlns=\"http://www.w3.org/2000/svg\" xmlns:xlink=\"http://www.w3.org/1999/xlink\">\n<g id=\"graph0\" class=\"graph\" transform=\"scale(1 1) rotate(0) translate(4 206)\">\n<title>%3</title>\n<polygon fill=\"white\" stroke=\"transparent\" points=\"-4,4 -4,-206 1551,-206 1551,4 -4,4\"/>\n<!-- 137436073829968 -->\n<g id=\"node1\" class=\"node\">\n<title>137436073829968</title>\n<polygon fill=\"none\" stroke=\"black\" points=\"328.5,-55.5 328.5,-91.5 537.5,-91.5 537.5,-55.5 328.5,-55.5\"/>\n<text text-anchor=\"middle\" x=\"352\" y=\"-69.8\" font-family=\"Times,serif\" font-size=\"14.00\">x2w2</text>\n<polyline fill=\"none\" stroke=\"black\" points=\"375.5,-55.5 375.5,-91.5 \"/>\n<text text-anchor=\"middle\" x=\"415.5\" y=\"-69.8\" font-family=\"Times,serif\" font-size=\"14.00\">data 0.0000</text>\n<polyline fill=\"none\" stroke=\"black\" points=\"455.5,-55.5 455.5,-91.5 \"/>\n<text text-anchor=\"middle\" x=\"496.5\" y=\"-69.8\" font-family=\"Times,serif\" font-size=\"14.00\">grad 0.5000</text>\n</g>\n<!-- 137436073822912+ -->\n<g id=\"node9\" class=\"node\">\n<title>137436073822912+</title>\n<ellipse fill=\"none\" stroke=\"black\" cx=\"603\" cy=\"-100.5\" rx=\"27\" ry=\"18\"/>\n<text text-anchor=\"middle\" x=\"603\" y=\"-96.8\" font-family=\"Times,serif\" font-size=\"14.00\">+</text>\n</g>\n<!-- 137436073829968&#45;&gt;137436073822912+ -->\n<g id=\"edge9\" class=\"edge\">\n<title>137436073829968&#45;&gt;137436073822912+</title>\n<path fill=\"none\" stroke=\"black\" d=\"M537.53,-90.14C547.8,-91.79 557.66,-93.37 566.45,-94.79\"/>\n<polygon fill=\"black\" stroke=\"black\" points=\"566.16,-98.28 576.59,-96.42 567.27,-91.37 566.16,-98.28\"/>\n</g>\n<!-- 137436073829968* -->\n<g id=\"node2\" class=\"node\">\n<title>137436073829968*</title>\n<ellipse fill=\"none\" stroke=\"black\" cx=\"263\" cy=\"-73.5\" rx=\"27\" ry=\"18\"/>\n<text text-anchor=\"middle\" x=\"263\" y=\"-69.8\" font-family=\"Times,serif\" font-size=\"14.00\">*</text>\n</g>\n<!-- 137436073829968*&#45;&gt;137436073829968 -->\n<g id=\"edge1\" class=\"edge\">\n<title>137436073829968*&#45;&gt;137436073829968</title>\n<path fill=\"none\" stroke=\"black\" d=\"M290.25,-73.5C298.43,-73.5 308.03,-73.5 318.31,-73.5\"/>\n<polygon fill=\"black\" stroke=\"black\" points=\"318.35,-77 328.35,-73.5 318.35,-70 318.35,-77\"/>\n</g>\n<!-- 137436073835104 -->\n<g id=\"node3\" class=\"node\">\n<title>137436073835104</title>\n<polygon fill=\"none\" stroke=\"black\" points=\"1362,-109.5 1362,-145.5 1547,-145.5 1547,-109.5 1362,-109.5\"/>\n<text text-anchor=\"middle\" x=\"1373.5\" y=\"-123.8\" font-family=\"Times,serif\" font-size=\"14.00\">o</text>\n<polyline fill=\"none\" stroke=\"black\" points=\"1385,-109.5 1385,-145.5 \"/>\n<text text-anchor=\"middle\" x=\"1425\" y=\"-123.8\" font-family=\"Times,serif\" font-size=\"14.00\">data 0.7071</text>\n<polyline fill=\"none\" stroke=\"black\" points=\"1465,-109.5 1465,-145.5 \"/>\n<text text-anchor=\"middle\" x=\"1506\" y=\"-123.8\" font-family=\"Times,serif\" font-size=\"14.00\">grad 1.0000</text>\n</g>\n<!-- 137436073835104tanh -->\n<g id=\"node4\" class=\"node\">\n<title>137436073835104tanh</title>\n<ellipse fill=\"none\" stroke=\"black\" cx=\"1299\" cy=\"-127.5\" rx=\"27\" ry=\"18\"/>\n<text text-anchor=\"middle\" x=\"1299\" y=\"-123.8\" font-family=\"Times,serif\" font-size=\"14.00\">tanh</text>\n</g>\n<!-- 137436073835104tanh&#45;&gt;137436073835104 -->\n<g id=\"edge2\" class=\"edge\">\n<title>137436073835104tanh&#45;&gt;137436073835104</title>\n<path fill=\"none\" stroke=\"black\" d=\"M1326.04,-127.5C1333.58,-127.5 1342.3,-127.5 1351.57,-127.5\"/>\n<polygon fill=\"black\" stroke=\"black\" points=\"1351.81,-131 1361.81,-127.5 1351.81,-124 1351.81,-131\"/>\n</g>\n<!-- 137436073823344 -->\n<g id=\"node5\" class=\"node\">\n<title>137436073823344</title>\n<polygon fill=\"none\" stroke=\"black\" points=\"326,-110.5 326,-146.5 540,-146.5 540,-110.5 326,-110.5\"/>\n<text text-anchor=\"middle\" x=\"349.5\" y=\"-124.8\" font-family=\"Times,serif\" font-size=\"14.00\">x1w1</text>\n<polyline fill=\"none\" stroke=\"black\" points=\"373,-110.5 373,-146.5 \"/>\n<text text-anchor=\"middle\" x=\"415.5\" y=\"-124.8\" font-family=\"Times,serif\" font-size=\"14.00\">data &#45;6.0000</text>\n<polyline fill=\"none\" stroke=\"black\" points=\"458,-110.5 458,-146.5 \"/>\n<text text-anchor=\"middle\" x=\"499\" y=\"-124.8\" font-family=\"Times,serif\" font-size=\"14.00\">grad 0.5000</text>\n</g>\n<!-- 137436073823344&#45;&gt;137436073822912+ -->\n<g id=\"edge14\" class=\"edge\">\n<title>137436073823344&#45;&gt;137436073822912+</title>\n<path fill=\"none\" stroke=\"black\" d=\"M540.4,-110.77C549.72,-109.21 558.65,-107.72 566.68,-106.39\"/>\n<polygon fill=\"black\" stroke=\"black\" points=\"567.38,-109.82 576.66,-104.72 566.22,-102.91 567.38,-109.82\"/>\n</g>\n<!-- 137436073823344* -->\n<g id=\"node6\" class=\"node\">\n<title>137436073823344*</title>\n<ellipse fill=\"none\" stroke=\"black\" cx=\"263\" cy=\"-128.5\" rx=\"27\" ry=\"18\"/>\n<text text-anchor=\"middle\" x=\"263\" y=\"-124.8\" font-family=\"Times,serif\" font-size=\"14.00\">*</text>\n</g>\n<!-- 137436073823344*&#45;&gt;137436073823344 -->\n<g id=\"edge3\" class=\"edge\">\n<title>137436073823344*&#45;&gt;137436073823344</title>\n<path fill=\"none\" stroke=\"black\" d=\"M290.25,-128.5C297.7,-128.5 306.34,-128.5 315.59,-128.5\"/>\n<polygon fill=\"black\" stroke=\"black\" points=\"315.84,-132 325.84,-128.5 315.84,-125 315.84,-132\"/>\n</g>\n<!-- 137436073834144 -->\n<g id=\"node7\" class=\"node\">\n<title>137436073834144</title>\n<polygon fill=\"none\" stroke=\"black\" points=\"4,-55.5 4,-91.5 196,-91.5 196,-55.5 4,-55.5\"/>\n<text text-anchor=\"middle\" x=\"19\" y=\"-69.8\" font-family=\"Times,serif\" font-size=\"14.00\">x2</text>\n<polyline fill=\"none\" stroke=\"black\" points=\"34,-55.5 34,-91.5 \"/>\n<text text-anchor=\"middle\" x=\"74\" y=\"-69.8\" font-family=\"Times,serif\" font-size=\"14.00\">data 0.0000</text>\n<polyline fill=\"none\" stroke=\"black\" points=\"114,-55.5 114,-91.5 \"/>\n<text text-anchor=\"middle\" x=\"155\" y=\"-69.8\" font-family=\"Times,serif\" font-size=\"14.00\">grad 0.5000</text>\n</g>\n<!-- 137436073834144&#45;&gt;137436073829968* -->\n<g id=\"edge13\" class=\"edge\">\n<title>137436073834144&#45;&gt;137436073829968*</title>\n<path fill=\"none\" stroke=\"black\" d=\"M196.05,-73.5C206.52,-73.5 216.65,-73.5 225.71,-73.5\"/>\n<polygon fill=\"black\" stroke=\"black\" points=\"225.79,-77 235.79,-73.5 225.79,-70 225.79,-77\"/>\n</g>\n<!-- 137436073822912 -->\n<g id=\"node8\" class=\"node\">\n<title>137436073822912</title>\n<polygon fill=\"none\" stroke=\"black\" points=\"666,-82.5 666,-118.5 925,-118.5 925,-82.5 666,-82.5\"/>\n<text text-anchor=\"middle\" x=\"712\" y=\"-96.8\" font-family=\"Times,serif\" font-size=\"14.00\">x1w1 + x2w2</text>\n<polyline fill=\"none\" stroke=\"black\" points=\"758,-82.5 758,-118.5 \"/>\n<text text-anchor=\"middle\" x=\"800.5\" y=\"-96.8\" font-family=\"Times,serif\" font-size=\"14.00\">data &#45;6.0000</text>\n<polyline fill=\"none\" stroke=\"black\" points=\"843,-82.5 843,-118.5 \"/>\n<text text-anchor=\"middle\" x=\"884\" y=\"-96.8\" font-family=\"Times,serif\" font-size=\"14.00\">grad 0.5000</text>\n</g>\n<!-- 137436073836448+ -->\n<g id=\"node15\" class=\"node\">\n<title>137436073836448+</title>\n<ellipse fill=\"none\" stroke=\"black\" cx=\"988\" cy=\"-127.5\" rx=\"27\" ry=\"18\"/>\n<text text-anchor=\"middle\" x=\"988\" y=\"-123.8\" font-family=\"Times,serif\" font-size=\"14.00\">+</text>\n</g>\n<!-- 137436073822912&#45;&gt;137436073836448+ -->\n<g id=\"edge6\" class=\"edge\">\n<title>137436073822912&#45;&gt;137436073836448+</title>\n<path fill=\"none\" stroke=\"black\" d=\"M923.57,-118.51C933.55,-119.92 943,-121.26 951.42,-122.46\"/>\n<polygon fill=\"black\" stroke=\"black\" points=\"951.09,-125.95 961.48,-123.88 952.07,-119.01 951.09,-125.95\"/>\n</g>\n<!-- 137436073822912+&#45;&gt;137436073822912 -->\n<g id=\"edge4\" class=\"edge\">\n<title>137436073822912+&#45;&gt;137436073822912</title>\n<path fill=\"none\" stroke=\"black\" d=\"M630.09,-100.5C637.58,-100.5 646.3,-100.5 655.75,-100.5\"/>\n<polygon fill=\"black\" stroke=\"black\" points=\"655.84,-104 665.84,-100.5 655.84,-97 655.84,-104\"/>\n</g>\n<!-- 137436073829200 -->\n<g id=\"node10\" class=\"node\">\n<title>137436073829200</title>\n<polygon fill=\"none\" stroke=\"black\" points=\"0,-165.5 0,-201.5 200,-201.5 200,-165.5 0,-165.5\"/>\n<text text-anchor=\"middle\" x=\"16.5\" y=\"-179.8\" font-family=\"Times,serif\" font-size=\"14.00\">w1</text>\n<polyline fill=\"none\" stroke=\"black\" points=\"33,-165.5 33,-201.5 \"/>\n<text text-anchor=\"middle\" x=\"75.5\" y=\"-179.8\" font-family=\"Times,serif\" font-size=\"14.00\">data &#45;3.0000</text>\n<polyline fill=\"none\" stroke=\"black\" points=\"118,-165.5 118,-201.5 \"/>\n<text text-anchor=\"middle\" x=\"159\" y=\"-179.8\" font-family=\"Times,serif\" font-size=\"14.00\">grad 1.0000</text>\n</g>\n<!-- 137436073829200&#45;&gt;137436073823344* -->\n<g id=\"edge11\" class=\"edge\">\n<title>137436073829200&#45;&gt;137436073823344*</title>\n<path fill=\"none\" stroke=\"black\" d=\"M172.53,-165.44C181.84,-162.67 191.2,-159.67 200,-156.5 210.53,-152.71 221.75,-147.9 231.72,-143.33\"/>\n<polygon fill=\"black\" stroke=\"black\" points=\"233.25,-146.48 240.82,-139.07 230.28,-140.14 233.25,-146.48\"/>\n</g>\n<!-- 137436073834336 -->\n<g id=\"node11\" class=\"node\">\n<title>137436073834336</title>\n<polygon fill=\"none\" stroke=\"black\" points=\"2,-110.5 2,-146.5 198,-146.5 198,-110.5 2,-110.5\"/>\n<text text-anchor=\"middle\" x=\"17\" y=\"-124.8\" font-family=\"Times,serif\" font-size=\"14.00\">x1</text>\n<polyline fill=\"none\" stroke=\"black\" points=\"32,-110.5 32,-146.5 \"/>\n<text text-anchor=\"middle\" x=\"72\" y=\"-124.8\" font-family=\"Times,serif\" font-size=\"14.00\">data 2.0000</text>\n<polyline fill=\"none\" stroke=\"black\" points=\"112,-110.5 112,-146.5 \"/>\n<text text-anchor=\"middle\" x=\"155\" y=\"-124.8\" font-family=\"Times,serif\" font-size=\"14.00\">grad &#45;1.5000</text>\n</g>\n<!-- 137436073834336&#45;&gt;137436073823344* -->\n<g id=\"edge10\" class=\"edge\">\n<title>137436073834336&#45;&gt;137436073823344*</title>\n<path fill=\"none\" stroke=\"black\" d=\"M198.37,-128.5C208.05,-128.5 217.4,-128.5 225.8,-128.5\"/>\n<polygon fill=\"black\" stroke=\"black\" points=\"225.91,-132 235.91,-128.5 225.91,-125 225.91,-132\"/>\n</g>\n<!-- 137436073827664 -->\n<g id=\"node12\" class=\"node\">\n<title>137436073827664</title>\n<polygon fill=\"none\" stroke=\"black\" points=\"699.5,-137.5 699.5,-173.5 891.5,-173.5 891.5,-137.5 699.5,-137.5\"/>\n<text text-anchor=\"middle\" x=\"714.5\" y=\"-151.8\" font-family=\"Times,serif\" font-size=\"14.00\">b1</text>\n<polyline fill=\"none\" stroke=\"black\" points=\"729.5,-137.5 729.5,-173.5 \"/>\n<text text-anchor=\"middle\" x=\"769.5\" y=\"-151.8\" font-family=\"Times,serif\" font-size=\"14.00\">data 6.8814</text>\n<polyline fill=\"none\" stroke=\"black\" points=\"809.5,-137.5 809.5,-173.5 \"/>\n<text text-anchor=\"middle\" x=\"850.5\" y=\"-151.8\" font-family=\"Times,serif\" font-size=\"14.00\">grad 0.5000</text>\n</g>\n<!-- 137436073827664&#45;&gt;137436073836448+ -->\n<g id=\"edge12\" class=\"edge\">\n<title>137436073827664&#45;&gt;137436073836448+</title>\n<path fill=\"none\" stroke=\"black\" d=\"M891.75,-141.5C913.01,-138.38 934.27,-135.25 951.29,-132.75\"/>\n<polygon fill=\"black\" stroke=\"black\" points=\"951.92,-136.19 961.31,-131.28 950.91,-129.27 951.92,-136.19\"/>\n</g>\n<!-- 137436073832320 -->\n<g id=\"node13\" class=\"node\">\n<title>137436073832320</title>\n<polygon fill=\"none\" stroke=\"black\" points=\"2.5,-0.5 2.5,-36.5 197.5,-36.5 197.5,-0.5 2.5,-0.5\"/>\n<text text-anchor=\"middle\" x=\"19\" y=\"-14.8\" font-family=\"Times,serif\" font-size=\"14.00\">w2</text>\n<polyline fill=\"none\" stroke=\"black\" points=\"35.5,-0.5 35.5,-36.5 \"/>\n<text text-anchor=\"middle\" x=\"75.5\" y=\"-14.8\" font-family=\"Times,serif\" font-size=\"14.00\">data 1.0000</text>\n<polyline fill=\"none\" stroke=\"black\" points=\"115.5,-0.5 115.5,-36.5 \"/>\n<text text-anchor=\"middle\" x=\"156.5\" y=\"-14.8\" font-family=\"Times,serif\" font-size=\"14.00\">grad 0.0000</text>\n</g>\n<!-- 137436073832320&#45;&gt;137436073829968* -->\n<g id=\"edge7\" class=\"edge\">\n<title>137436073832320&#45;&gt;137436073829968*</title>\n<path fill=\"none\" stroke=\"black\" d=\"M169.28,-36.5C179.65,-39.61 190.16,-42.98 200,-46.5 210.28,-50.17 221.28,-54.74 231.11,-59.07\"/>\n<polygon fill=\"black\" stroke=\"black\" points=\"229.93,-62.37 240.48,-63.27 232.79,-55.99 229.93,-62.37\"/>\n</g>\n<!-- 137436073836448 -->\n<g id=\"node14\" class=\"node\">\n<title>137436073836448</title>\n<polygon fill=\"none\" stroke=\"black\" points=\"1051,-109.5 1051,-145.5 1236,-145.5 1236,-109.5 1051,-109.5\"/>\n<text text-anchor=\"middle\" x=\"1062.5\" y=\"-123.8\" font-family=\"Times,serif\" font-size=\"14.00\">n</text>\n<polyline fill=\"none\" stroke=\"black\" points=\"1074,-109.5 1074,-145.5 \"/>\n<text text-anchor=\"middle\" x=\"1114\" y=\"-123.8\" font-family=\"Times,serif\" font-size=\"14.00\">data 0.8814</text>\n<polyline fill=\"none\" stroke=\"black\" points=\"1154,-109.5 1154,-145.5 \"/>\n<text text-anchor=\"middle\" x=\"1195\" y=\"-123.8\" font-family=\"Times,serif\" font-size=\"14.00\">grad 0.5000</text>\n</g>\n<!-- 137436073836448&#45;&gt;137436073835104tanh -->\n<g id=\"edge8\" class=\"edge\">\n<title>137436073836448&#45;&gt;137436073835104tanh</title>\n<path fill=\"none\" stroke=\"black\" d=\"M1236.01,-127.5C1245.01,-127.5 1253.74,-127.5 1261.66,-127.5\"/>\n<polygon fill=\"black\" stroke=\"black\" points=\"1261.91,-131 1271.91,-127.5 1261.91,-124 1261.91,-131\"/>\n</g>\n<!-- 137436073836448+&#45;&gt;137436073836448 -->\n<g id=\"edge5\" class=\"edge\">\n<title>137436073836448+&#45;&gt;137436073836448</title>\n<path fill=\"none\" stroke=\"black\" d=\"M1015.04,-127.5C1022.58,-127.5 1031.3,-127.5 1040.57,-127.5\"/>\n<polygon fill=\"black\" stroke=\"black\" points=\"1040.81,-131 1050.81,-127.5 1040.81,-124 1040.81,-131\"/>\n</g>\n</g>\n</svg>\n",
            "text/plain": [
              "<graphviz.graphs.Digraph at 0x7cff545c0250>"
            ]
          },
          "metadata": {},
          "execution_count": 76
        }
      ]
    },
    {
      "cell_type": "code",
      "source": [
        "class Neuron:\n",
        "  def __init__(self, n_in):\n",
        "    self.w = [Value(np.random.uniform(-1,1)) for item in range(n_in)]\n",
        "    self.b = Value(np.random.uniform(-1,1))\n",
        "\n",
        "  def __call__(self, x):\n",
        "    # w * x + b\n",
        "    activation = sum((wi * xi for wi, xi in zip(self.w, x)), self.b)\n",
        "    out = activation.tanh()\n",
        "    return out\n",
        "\n",
        "  def parameters(self):\n",
        "    return self.w + [self.b]\n",
        "\n",
        "class Layer:\n",
        "  def __init__(self, n_in, n_out):\n",
        "    self.neurons = [Neuron(n_in) for _ in range(n_out)]\n",
        "\n",
        "  def __call__(self, x):\n",
        "    outs = [n(x) for n in self.neurons]\n",
        "    return outs[0] if len(outs) == 1 else outs\n",
        "\n",
        "  def parameters(self):\n",
        "    return [p for neuron in self.neurons for p in neuron.parameters()]\n",
        "\n"
      ],
      "metadata": {
        "id": "NDbpDYGSamPL"
      },
      "execution_count": null,
      "outputs": []
    },
    {
      "cell_type": "code",
      "source": [
        "class MLP:\n",
        "  def __init__(self, n_in, n_out):\n",
        "    size = [n_in] + n_out\n",
        "    self.layers = [Layer(size[i], size[i+1]) for i in range(len(n_out))]\n",
        "\n",
        "  def __call__(self, x):\n",
        "    for layer in self.layers:\n",
        "      x = layer(x)\n",
        "    return x\n",
        "\n",
        "  def parameters(self):\n",
        "    return [p for layer in self.layers for p in layer.parameters()]"
      ],
      "metadata": {
        "id": "TbAnlSr82XKQ"
      },
      "execution_count": null,
      "outputs": []
    },
    {
      "cell_type": "code",
      "source": [
        "x = [2.0, 3.0, -1.0]\n",
        "n = MLP(3, [4, 4, 1])\n"
      ],
      "metadata": {
        "id": "EeM5q_HDf3E2"
      },
      "execution_count": null,
      "outputs": []
    },
    {
      "cell_type": "code",
      "source": [
        "n(x)"
      ],
      "metadata": {
        "colab": {
          "base_uri": "https://localhost:8080/"
        },
        "id": "J2KiRrG0f3qx",
        "outputId": "d6bd7b4f-0860-437c-948a-b809503ea949"
      },
      "execution_count": null,
      "outputs": [
        {
          "output_type": "execute_result",
          "data": {
            "text/plain": [
              "Value(data=0.31096893674280274)"
            ]
          },
          "metadata": {},
          "execution_count": 94
        }
      ]
    },
    {
      "cell_type": "code",
      "source": [
        "features = [\n",
        "    [2.0, 3.0, -1.0],\n",
        "    [3.0, -1.0, 0.5],\n",
        "    [0.5, 1.0, 1.0],\n",
        "    [1.0, 1.0, -1.0]\n",
        "] # features\n",
        "\n",
        "targets = [1.0, -1.0, -1.0, 1.0] # targets"
      ],
      "metadata": {
        "id": "vWXDzp65z5x4"
      },
      "execution_count": null,
      "outputs": []
    },
    {
      "cell_type": "code",
      "source": [
        "for k in range(10):\n",
        "  #forward pass\n",
        "  ypred = [n(x) for x in features]\n",
        "  loss = sum(((yout - ytrue)**2) for yout, ytrue in zip(ypred, targets))\n",
        "\n",
        "  # backward pass\n",
        "  for p in n.parameters():\n",
        "    p.gradient = 0.0\n",
        "\n",
        "  loss.backprop()\n",
        "\n",
        "  #update\n",
        "  for p in n.parameters():\n",
        "    p.data -= 0.05 * p.gradient\n",
        "\n",
        "\n",
        "  print(f\"iter, mse:{k, loss.data}\")\n",
        "\n"
      ],
      "metadata": {
        "colab": {
          "base_uri": "https://localhost:8080/"
        },
        "id": "s0jghhmQ3_YI",
        "outputId": "8dd2e745-8d3a-47dc-b947-e5ed98fcda49"
      },
      "execution_count": null,
      "outputs": [
        {
          "output_type": "stream",
          "name": "stdout",
          "text": [
            "iter, mse:(0, 4.436517587957576)\n",
            "iter, mse:(1, 2.4309785481023805)\n",
            "iter, mse:(2, 1.9480669501317824)\n",
            "iter, mse:(3, 1.4758152708260766)\n",
            "iter, mse:(4, 1.0523704873570927)\n",
            "iter, mse:(5, 0.7293579735458298)\n",
            "iter, mse:(6, 0.5150410786132228)\n",
            "iter, mse:(7, 0.3797881857725137)\n",
            "iter, mse:(8, 0.29290783479243165)\n",
            "iter, mse:(9, 0.2346660757970353)\n"
          ]
        }
      ]
    },
    {
      "cell_type": "code",
      "source": [],
      "metadata": {
        "id": "cLb9PS3B5Cxp",
        "colab": {
          "base_uri": "https://localhost:8080/"
        },
        "outputId": "1173d939-c2c7-4d4b-b91a-dee3e4ed7e35"
      },
      "execution_count": null,
      "outputs": [
        {
          "output_type": "execute_result",
          "data": {
            "text/plain": [
              "0.01533893512039114"
            ]
          },
          "metadata": {},
          "execution_count": 97
        }
      ]
    },
    {
      "cell_type": "code",
      "source": [],
      "metadata": {
        "colab": {
          "base_uri": "https://localhost:8080/"
        },
        "id": "iAYphgWs538q",
        "outputId": "da4550b1-e89a-4306-fea1-c82ca38c299d"
      },
      "execution_count": null,
      "outputs": [
        {
          "output_type": "execute_result",
          "data": {
            "text/plain": [
              "0.0"
            ]
          },
          "metadata": {},
          "execution_count": 52
        }
      ]
    },
    {
      "cell_type": "code",
      "source": [],
      "metadata": {
        "id": "G3msMk2j70In"
      },
      "execution_count": null,
      "outputs": []
    },
    {
      "cell_type": "code",
      "source": [],
      "metadata": {
        "colab": {
          "base_uri": "https://localhost:8080/"
        },
        "id": "FSHO6TUp7854",
        "outputId": "c2931ba4-f5be-472c-b05a-b67ae1d71aa6"
      },
      "execution_count": null,
      "outputs": [
        {
          "output_type": "execute_result",
          "data": {
            "text/plain": [
              "0.3683598438975205"
            ]
          },
          "metadata": {},
          "execution_count": 15
        }
      ]
    },
    {
      "cell_type": "code",
      "source": [
        "\n"
      ],
      "metadata": {
        "id": "IFAseKTP8KMv"
      },
      "execution_count": null,
      "outputs": []
    },
    {
      "cell_type": "code",
      "source": [],
      "metadata": {
        "id": "vcqiKgCq8dPu"
      },
      "execution_count": null,
      "outputs": []
    }
  ]
}